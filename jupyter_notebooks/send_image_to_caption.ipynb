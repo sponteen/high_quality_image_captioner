{
 "cells": [
  {
   "cell_type": "markdown",
   "metadata": {},
   "source": [
    "# Attacking the `/caption_image` endpoint\n",
    "# [model: `BLIP 1 large - local`]"
   ]
  },
  {
   "cell_type": "markdown",
   "metadata": {},
   "source": [
    "## Imports & configs"
   ]
  },
  {
   "cell_type": "code",
   "execution_count": 1,
   "metadata": {},
   "outputs": [],
   "source": [
    "import os\n",
    "import requests\n",
    "import hashlib\n",
    "import json\n",
    "import matplotlib.pyplot as plt\n",
    "from IPython.display import Image as Display_Image\n",
    "from PIL import Image\n",
    "\n",
    "user_uuid = \"2be57bb075c4c7d6d4bfb2b61b526ef5ffcd4ffc9edfb1f0cff25d57aca7edab\"\n",
    "API_URL = f\"http://localhost:14080/caption_images/hq/{user_uuid}\""
   ]
  },
  {
   "cell_type": "markdown",
   "metadata": {},
   "source": [
    "## Utils"
   ]
  },
  {
   "cell_type": "code",
   "execution_count": 2,
   "metadata": {},
   "outputs": [],
   "source": [
    "def calculate_sha1(file_path):\n",
    "    sha1 = hashlib.sha1()\n",
    "    with open(file_path, \"rb\") as f:\n",
    "        while chunk := f.read(8192):\n",
    "            sha1.update(chunk)\n",
    "    return sha1.hexdigest()"
   ]
  },
  {
   "cell_type": "markdown",
   "metadata": {},
   "source": [
    "## Data loading"
   ]
  },
  {
   "cell_type": "code",
   "execution_count": 3,
   "metadata": {},
   "outputs": [],
   "source": [
    "image_files = [\n",
    "    (\"images\", (\"1.jpg\", open(\"images/1.jpg\", \"rb\"))),\n",
    "    (\"images\", (\"2.jpg\", open(\"images/2.jpg\", \"rb\"))),\n",
    "    (\"images\", (\"3.jpg\", open(\"images/3.jpg\", \"rb\"))),\n",
    "    (\"images\", (\"4.jpg\", open(\"images/4.jpg\", \"rb\"))),\n",
    "    (\"images\", (\"5.jpg\", open(\"images/5.jpg\", \"rb\"))),\n",
    "    (\"images\", (\"6.jpg\", open(\"images/6.jpg\", \"rb\"))),\n",
    "]\n",
    "\n",
    "metadata = json.dumps(\n",
    "    [\n",
    "        {\"image_order\": 1, \"image_hash\": calculate_sha1(\"images/1.jpg\")},\n",
    "        {\"image_order\": 2, \"image_hash\": calculate_sha1(\"images/2.jpg\")},\n",
    "        {\"image_order\": 3, \"image_hash\": calculate_sha1(\"images/3.jpg\")},\n",
    "        {\"image_order\": 4, \"image_hash\": calculate_sha1(\"images/4.jpg\")},\n",
    "        {\"image_order\": 5, \"image_hash\": calculate_sha1(\"images/5.jpg\")},\n",
    "        {\"image_order\": 6, \"image_hash\": calculate_sha1(\"images/6.jpg\")},\n",
    "    ]\n",
    ")"
   ]
  },
  {
   "cell_type": "markdown",
   "metadata": {},
   "source": [
    "## Initiating the request"
   ]
  },
  {
   "cell_type": "code",
   "execution_count": 4,
   "metadata": {},
   "outputs": [
    {
     "name": "stdout",
     "output_type": "stream",
     "text": [
      "Status Code: 500\n",
      "An error occurred while making the request: Expecting value: line 1 column 1 (char 0)\n"
     ]
    }
   ],
   "source": [
    "try:\n",
    "    print(metadata)\n",
    "    response = requests.post(API_URL, files=image_files, data={\"metadata\" : metadata})\n",
    "\n",
    "    print(\"Status Code:\", response.status_code)\n",
    "    print(\"Response:\", response.json())\n",
    "\n",
    "    captions = response.json()\n",
    "    captions = captions[\"captions\"]\n",
    "except requests.exceptions.RequestException as e:\n",
    "    print(\"An error occurred while making the request:\", e)\n",
    "finally:\n",
    "    for _, (_, image_file) in image_files:\n",
    "        image_file.close()"
   ]
  },
  {
   "cell_type": "markdown",
   "metadata": {},
   "source": [
    "## Plotting the results"
   ]
  },
  {
   "cell_type": "markdown",
   "metadata": {},
   "source": [
    "CPU-bound run: 6 images --> 2m 41.9s"
   ]
  },
  {
   "cell_type": "code",
   "execution_count": 5,
   "metadata": {},
   "outputs": [
    {
     "ename": "NameError",
     "evalue": "name 'captions' is not defined",
     "output_type": "error",
     "traceback": [
      "\u001b[0;31m---------------------------------------------------------------------------\u001b[0m",
      "\u001b[0;31mNameError\u001b[0m                                 Traceback (most recent call last)",
      "Cell \u001b[0;32mIn[5], line 1\u001b[0m\n\u001b[0;32m----> 1\u001b[0m num_images \u001b[38;5;241m=\u001b[39m \u001b[38;5;28mlen\u001b[39m(\u001b[43mcaptions\u001b[49m)\n\u001b[1;32m      2\u001b[0m plt\u001b[38;5;241m.\u001b[39mfigure(figsize\u001b[38;5;241m=\u001b[39m(\u001b[38;5;241m10\u001b[39m, \u001b[38;5;241m5\u001b[39m \u001b[38;5;241m*\u001b[39m num_images))\n\u001b[1;32m      4\u001b[0m \u001b[38;5;28;01mfor\u001b[39;00m i \u001b[38;5;129;01min\u001b[39;00m \u001b[38;5;28mrange\u001b[39m(num_images):\n",
      "\u001b[0;31mNameError\u001b[0m: name 'captions' is not defined"
     ]
    }
   ],
   "source": [
    "num_images = len(captions)\n",
    "plt.figure(figsize=(10, 5 * num_images))\n",
    "\n",
    "for i in range(num_images):\n",
    "    plt.subplot(num_images, 1, i + 1)\n",
    "    img_path = f\"images/{i + 1}.jpg\"\n",
    "    img = Image.open(img_path)\n",
    "    \n",
    "    plt.imshow(img)\n",
    "    plt.axis('off')\n",
    "\n",
    "    caption_text = captions[i][\"caption\"]\n",
    "    plt.text(0.5, -0.1, caption_text, ha='center', va='top', fontsize=12, wrap=True, transform=plt.gca().transAxes)\n",
    "\n",
    "plt.tight_layout()\n",
    "os.makedirs(\"./captioned_images\", exist_ok=True)\n",
    "plt.savefig(\"captions.png\")\n",
    "plt.show()"
   ]
  }
 ],
 "metadata": {
  "kernelspec": {
   "display_name": ".venv",
   "language": "python",
   "name": "python3"
  },
  "language_info": {
   "codemirror_mode": {
    "name": "ipython",
    "version": 3
   },
   "file_extension": ".py",
   "mimetype": "text/x-python",
   "name": "python",
   "nbconvert_exporter": "python",
   "pygments_lexer": "ipython3",
   "version": "3.12.6"
  }
 },
 "nbformat": 4,
 "nbformat_minor": 2
}
